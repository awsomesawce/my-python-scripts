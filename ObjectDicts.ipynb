{
 "cells": [
  {
   "cell_type": "markdown",
   "id": "6c707a05-7159-4bb4-a902-83181f4bbbd2",
   "metadata": {},
   "source": [
    "# Object Dicts in Python\n",
    "\n",
    "Python's way of accessing values in dicts is as such:\n",
    "\n",
    "```python\n",
    "d = {'one': 'two'}\n",
    "print(d['one']) # => 'two'\n",
    "```\n",
    "\n",
    "Javascript is like this:\n",
    "\n",
    "```js\n",
    "var d = {one: 'two'}\n",
    "console.log(d.one) // 'two'\n",
    "```\n",
    "\n",
    "With this module, you can use Javascript-like syntax:\n",
    "\n",
    "```python\n",
    "from objectdict import ObjectDict\n",
    "d = ObjectDict({'one': 'two'})\n",
    "print(d.one)\n",
    "```"
   ]
  },
  {
   "cell_type": "code",
   "execution_count": 1,
   "id": "5cd74f26-28b9-43e8-b100-cd97fdbef407",
   "metadata": {},
   "outputs": [],
   "source": [
    "\"\"\"Object dicts in Python\"\"\"\n",
    "from pprint import pprint\n",
    "from typing import Dict, List, Any, AnyStr, NamedTuple, Tuple, Union, Sequence\n",
    "import json\n",
    "import os, sys"
   ]
  },
  {
   "cell_type": "code",
   "execution_count": 4,
   "id": "28e7d130-de70-4d97-a31a-dd8fae32ddaa",
   "metadata": {},
   "outputs": [],
   "source": [
    "class ObjectDict(Dict[str, Any]):\n",
    "    \"\"\"Makes a dictionary behave like an object, with attribute-style access.\n",
    "    Analogous to how javascript objects work.\n",
    "    From tornado.util\n",
    "    \"\"\"\n",
    "\n",
    "    _version = \"0.3\"\n",
    "\n",
    "    def __getattr__(self, name: str) -> Any:\n",
    "        try:\n",
    "            return self[name]\n",
    "        except KeyError:\n",
    "            raise AttributeError(name)\n",
    "\n",
    "    def __setattr__(self, name: str, value: Any) -> None:\n",
    "        self[name] = value\n",
    "\n",
    "    def printmyjson(self) -> str:\n",
    "        \"\"\"Returns a representation of the dict as a json string\"\"\"\n",
    "        return json.dumps(self)\n",
    "\n",
    "    @staticmethod\n",
    "    def printjson(val: Any) -> str:\n",
    "        \"\"\"Return json representation of ``val``\"\"\"\n",
    "        return json.dumps(val)\n",
    "    "
   ]
  },
  {
   "cell_type": "code",
   "execution_count": 7,
   "id": "c31bae99-3582-4bd8-9aef-70a803301c41",
   "metadata": {},
   "outputs": [
    {
     "data": {
      "text/plain": [
       "[0, 1, 2, 3, 4, 5, 6, 7, 8, 9]"
      ]
     },
     "execution_count": 7,
     "metadata": {},
     "output_type": "execute_result"
    }
   ],
   "source": [
    "od = ObjectDict({'one': list(range(10))})\n",
    "od.one"
   ]
  },
  {
   "cell_type": "code",
   "execution_count": null,
   "id": "38a1d077-32ff-444d-8328-94b0844f8fda",
   "metadata": {},
   "outputs": [],
   "source": []
  }
 ],
 "metadata": {
  "kernelspec": {
   "display_name": "Python 3 (ipykernel)",
   "language": "python",
   "name": "python3"
  },
  "language_info": {
   "codemirror_mode": {
    "name": "ipython",
    "version": 3
   },
   "file_extension": ".py",
   "mimetype": "text/x-python",
   "name": "python",
   "nbconvert_exporter": "python",
   "pygments_lexer": "ipython3",
   "version": "3.9.7"
  }
 },
 "nbformat": 4,
 "nbformat_minor": 5
}
