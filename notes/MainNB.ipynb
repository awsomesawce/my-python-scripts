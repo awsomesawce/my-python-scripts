{
 "cells": [
  {
   "cell_type": "code",
   "execution_count": 3,
   "id": "db9cb678",
   "metadata": {},
   "outputs": [
    {
     "name": "stdout",
     "output_type": "stream",
     "text": [
      "{'jupyter': ['Use jupyter lab']}\n"
     ]
    }
   ],
   "source": [
    "\"\"\"\n",
    "Main Jupyter Notebook\n",
    "=====================\n",
    "TODO: Install Jupyter Lab/Hub\n",
    "\"\"\"\n",
    "\n",
    "import os, sys, sysconfig, site, platform\n",
    "from pprint import pprint as ppr\n",
    "\n",
    "notes = {\n",
    "    \"jupyter\": [\"Use jupyter lab\"]\n",
    "}\n",
    "\n",
    "#ppr(notes)\n",
    "print(notes)"
   ]
  },
  {
   "cell_type": "code",
   "execution_count": 4,
   "id": "b2cad8c2",
   "metadata": {},
   "outputs": [
    {
     "name": "stdout",
     "output_type": "stream",
     "text": [
      "{'jupyter': ['Use jupyter lab']}\n"
     ]
    }
   ],
   "source": [
    "ppr(notes)"
   ]
  },
  {
   "cell_type": "code",
   "execution_count": 5,
   "id": "5b9f3008",
   "metadata": {},
   "outputs": [
    {
     "name": "stdout",
     "output_type": "stream",
     "text": [
      "{'jupyter': ['Use jupyter lab']}\n"
     ]
    }
   ],
   "source": [
    "print(repr(notes))\n"
   ]
  },
  {
   "cell_type": "code",
   "execution_count": 7,
   "id": "a517b2e3",
   "metadata": {},
   "outputs": [
    {
     "name": "stdout",
     "output_type": "stream",
     "text": [
      "[1, 2, 3]\n"
     ]
    }
   ],
   "source": [
    "\"\"\"\n",
    "Data Types\n",
    "\"\"\"\n",
    "\n",
    "my_set = {1, 2, 3}\n",
    "my_list = [1, 2, 3]\n",
    "print(my_list)"
   ]
  },
  {
   "cell_type": "code",
   "execution_count": null,
   "id": "e98e5e65",
   "metadata": {},
   "outputs": [],
   "source": []
  }
 ],
 "metadata": {
  "kernelspec": {
   "display_name": "Python 3 (ipykernel)",
   "language": "python",
   "name": "python3"
  },
  "language_info": {
   "codemirror_mode": {
    "name": "ipython",
    "version": 3
   },
   "file_extension": ".py",
   "mimetype": "text/x-python",
   "name": "python",
   "nbconvert_exporter": "python",
   "pygments_lexer": "ipython3",
   "version": "3.9.7"
  }
 },
 "nbformat": 4,
 "nbformat_minor": 5
}
