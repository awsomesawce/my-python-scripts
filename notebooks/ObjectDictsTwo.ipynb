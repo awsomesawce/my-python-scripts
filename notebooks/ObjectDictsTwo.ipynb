{
 "cells": [
  {
   "cell_type": "markdown",
   "id": "3c450de1-317b-4d41-b791-4c61c4b22d55",
   "metadata": {},
   "source": [
    "# Object Dicts in Python (and file converters)\n",
    "\n",
    "In `python`, dict values have to be retrieved using a certain syntax:\n",
    "\n",
    "```python\n",
    "d = {'kone': 'vone'}\n",
    "print(d['kone'])\n",
    "```\n",
    "\n",
    "But in `javascript` the same can be done using a js object:\n",
    "\n",
    "```js\n",
    "const d = {\n",
    "    kone: 'vone'\n",
    "}\n",
    "console.log(d.kone) // => 'vone'\n",
    "console.log(d['kone']) // => 'vone'\n",
    "```\n",
    "\n",
    "This type of flexibility is now possible in **Python** by using the `objectdict` module\n"
   ]
  },
  {
   "cell_type": "code",
   "execution_count": 37,
   "id": "0fa9b17a-632a-447b-a315-d9f86ccd1192",
   "metadata": {},
   "outputs": [
    {
     "name": "stdout",
     "output_type": "stream",
     "text": [
      "C:\\Users\\Carl\\gitstuff\\my-python-scripts\n"
     ]
    }
   ],
   "source": [
    "\"\"\"Manipulate sys.path to import objectdict module\"\"\"\n",
    "import os, sys, json, glob\n",
    "from pathlib import Path, PurePath\n",
    "\n",
    "print(Path.cwd())\n",
    "BASEDIR = Path(\"~/gitstuff/my-python-scripts\").expanduser()\n",
    "sys.path.append(f\"{BASEDIR}\")\n",
    "import objectdict"
   ]
  },
  {
   "cell_type": "markdown",
   "id": "74ba6366-9254-4cd2-8f80-781943e25fee",
   "metadata": {},
   "source": [
    "`BASEDIR` is just a constant that refers to the base directory of the git repo.\n"
   ]
  },
  {
   "cell_type": "code",
   "execution_count": 38,
   "id": "2f5c3150-7413-490a-ab69-bb892b5df3ff",
   "metadata": {},
   "outputs": [],
   "source": [
    "p = Path(\"~/Desktop/ObjDictFiles\").expanduser()"
   ]
  },
  {
   "cell_type": "markdown",
   "id": "4d6f09ea-79f9-4717-ae22-e5c3cad77fba",
   "metadata": {},
   "source": [
    "Now to iterate over these files and do stuff to them..."
   ]
  },
  {
   "cell_type": "code",
   "execution_count": 39,
   "id": "31584f99-504d-4d96-af2d-f37ef58d4fb3",
   "metadata": {},
   "outputs": [],
   "source": [
    "from pprint import pprint\n",
    "dircontents = [x for x in p.iterdir()]\n",
    "filecontents = dircontents[-1].read_text()\n"
   ]
  },
  {
   "cell_type": "code",
   "execution_count": null,
   "id": "ae56d0f5-803c-4281-a927-12cf36205dc7",
   "metadata": {},
   "outputs": [],
   "source": []
  }
 ],
 "metadata": {
  "kernelspec": {
   "display_name": "Python 3 (ipykernel)",
   "language": "python",
   "name": "python3"
  },
  "language_info": {
   "codemirror_mode": {
    "name": "ipython",
    "version": 3
   },
   "file_extension": ".py",
   "mimetype": "text/x-python",
   "name": "python",
   "nbconvert_exporter": "python",
   "pygments_lexer": "ipython3",
   "version": "3.9.7"
  }
 },
 "nbformat": 4,
 "nbformat_minor": 5
}
