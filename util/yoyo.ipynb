{
 "cells": [
  {
   "cell_type": "code",
   "execution_count": 1,
   "id": "ed602668-969b-437c-ab25-807bd3571124",
   "metadata": {},
   "outputs": [],
   "source": [
    "import json, os, pathlib, site, sys, sysconfig, platform\n",
    "# Debug-style modules\n",
    "import inspect, reprlib"
   ]
  },
  {
   "cell_type": "code",
   "execution_count": 3,
   "id": "4d7e6f27-3211-429b-bce0-6f7cebc8b003",
   "metadata": {},
   "outputs": [
    {
     "name": "stdout",
     "output_type": "stream",
     "text": [
      "<module 'pyrsistent' from 'C:\\\\Users\\\\Carl\\\\miniconda3\\\\lib\\\\site-packages\\\\pyrsistent\\\\__init__.py'>\n"
     ]
    }
   ],
   "source": [
    "\"\"\"Data in python\"\"\"\n",
    "import pyrsistent\n",
    "\n",
    "print(pyrsistent)"
   ]
  },
  {
   "cell_type": "code",
   "execution_count": null,
   "id": "4b1313b6-d978-4144-bf7e-6ea526befad1",
   "metadata": {},
   "outputs": [],
   "source": []
  }
 ],
 "metadata": {
  "kernelspec": {
   "display_name": "Python 3 (ipykernel)",
   "language": "python",
   "name": "python3"
  },
  "language_info": {
   "codemirror_mode": {
    "name": "ipython",
    "version": 3
   },
   "file_extension": ".py",
   "mimetype": "text/x-python",
   "name": "python",
   "nbconvert_exporter": "python",
   "pygments_lexer": "ipython3",
   "version": "3.9.7"
  }
 },
 "nbformat": 4,
 "nbformat_minor": 5
}
